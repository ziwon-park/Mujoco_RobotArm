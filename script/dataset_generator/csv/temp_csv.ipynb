{
 "cells": [
  {
   "cell_type": "code",
   "execution_count": 2,
   "metadata": {},
   "outputs": [],
   "source": [
    "import csv\n",
    "import os\n",
    " \n",
    "def print_csv_file_lengths(folder_path):\n",
    "    for filename in os.listdir(folder_path):\n",
    "        if filename.endswith('.csv'):\n",
    "            file_path = os.path.join(folder_path, filename)\n",
    "            with open(file_path, 'r', newline='') as csvfile:\n",
    "                reader = csv.reader(csvfile)\n",
    "                row_count = 0\n",
    "                column_count = []\n",
    "                for row in reader:\n",
    "                    row_count += 1\n",
    "                    column_count.append(len(row))\n",
    "                row_count = sum(1 for row in reader)  \n",
    "            print(f\"{filename}: {row_count} rows\")\n",
    " "
   ]
  },
  {
   "cell_type": "code",
   "execution_count": 5,
   "metadata": {},
   "outputs": [],
   "source": [
    "base_folder = \"/home/robros/model_uncertainty/script/dataset_generator/csv/joint_data/2024-01-30_11-14-37\"  \n",
    "input_data_folder = os.path.join(base_folder, \"input_data\")\n",
    "target_data_folder = os.path.join(base_folder, \"target_data\")"
   ]
  },
  {
   "cell_type": "code",
   "execution_count": 6,
   "metadata": {},
   "outputs": [
    {
     "name": "stdout",
     "output_type": "stream",
     "text": [
      "Input Data Folder CSV File Lengths:\n",
      "free_joint_5.csv: 56 rows\n",
      "free_joint_4.csv: 56 rows\n",
      "free_joint_7.csv: 56 rows\n",
      "free_joint_6.csv: 56 rows\n",
      "free_joint_2.csv: 56 rows\n",
      "free_joint_3.csv: 56 rows\n",
      "free_joint_1.csv: 56 rows\n",
      "\n",
      "Target Data Folder CSV File Lengths:\n",
      "tau_values.csv: 86670 rows\n"
     ]
    }
   ],
   "source": [
    "print(\"Input Data Folder CSV File Lengths:\")\n",
    "print_csv_file_lengths(input_data_folder)\n",
    " \n",
    "print(\"\\nTarget Data Folder CSV File Lengths:\")\n",
    "print_csv_file_lengths(target_data_folder)"
   ]
  }
 ],
 "metadata": {
  "kernelspec": {
   "display_name": "py38",
   "language": "python",
   "name": "python3"
  },
  "language_info": {
   "codemirror_mode": {
    "name": "ipython",
    "version": 3
   },
   "file_extension": ".py",
   "mimetype": "text/x-python",
   "name": "python",
   "nbconvert_exporter": "python",
   "pygments_lexer": "ipython3",
   "version": "3.8.18"
  }
 },
 "nbformat": 4,
 "nbformat_minor": 2
}
